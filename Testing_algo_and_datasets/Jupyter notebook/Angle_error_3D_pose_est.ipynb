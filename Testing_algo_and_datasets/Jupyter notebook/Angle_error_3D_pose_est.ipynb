{
 "cells": [
  {
   "cell_type": "code",
   "execution_count": 15,
   "id": "11b095a0",
   "metadata": {},
   "outputs": [],
   "source": [
    "import random\n",
    "import math\n",
    "import numpy as np\n",
    "from matplotlib import pyplot as plt \n",
    "\n",
    "def solid_sphere(R,npoints):\n",
    "    phi=np.random.uniform(low=0, high=2*np.pi, size=(1,npoints))\n",
    "    costheta=np.random.uniform(low=-1, high=1, size=(1,npoints))\n",
    "    u=np.random.uniform(low=0, high=1, size=(1,npoints))\n",
    "    theta = np.arccos( costheta )\n",
    "    r = R * np.cbrt(u)\n",
    "    x = r * np.sin( theta) * np.cos( phi )\n",
    "    y = r * np.sin( theta) * np.sin( phi )\n",
    "    z = r * np.cos( theta )\n",
    "    vec=np.concatenate((x,y,z),axis=0)\n",
    "    return vec\n",
    "\n",
    "\n",
    "def hollow_sphere(r,npoints, ndim=3):\n",
    "    vec = np.random.randn(ndim, npoints)\n",
    "    vec /= np.linalg.norm(vec, axis=0)\n",
    "    return r*vec\n",
    "\n",
    "def sphere_z(r,center):\n",
    "    x=np.random.rand(5,1)\n",
    "    y=np.random.rand(5,1)\n",
    "    z_plus=center[2]+np.sqrt(r**2-(x-center[0])**2-(y-center[1])**2)\n",
    "    z_min=center[2]-np.sqrt(r**2-(x-center[0])**2-(y-center[1])**2)\n",
    "    return [x,y,z_plus,z_min]\n",
    "\n",
    "def angle_calc_single(point1,point2,point3):\n",
    "    point12=point2-point1\n",
    "    point13=point3-point1\n",
    "    #print(point12)\n",
    "    #print(point13)\n",
    "    #print(np.sum(point12*point13,1).reshape(np.shape(point12)[0],1))\n",
    "    #print(((np.linalg.norm(point12,axis=1) * np.linalg.norm(point13,axis=1)).reshape(np.shape(point12)[0],1)))\n",
    "    cosine_angle = np.sum(point12*point13,1).reshape(np.shape(point12)[0],1) / ((np.linalg.norm(point12,axis=1) * np.linalg.norm(point13,axis=1)).reshape(np.shape(point12)[0],1))\n",
    "    angle = np.arccos(cosine_angle)\n",
    "    return np.degrees(angle)\n",
    "\n",
    "def angle_total(r,center1,center2,center3,points=1000):\n",
    "    angle_list=[]\n",
    "    xi1, yi1, zi1 = solid_sphere(r,points)\n",
    "    xi2, yi2, zi2 = solid_sphere(r,points)\n",
    "    xi3, yi3, zi3 = solid_sphere(r,points)\n",
    "    sphere_around_origin1=np.concatenate((xi1.reshape((xi1.size,1)),yi1.reshape((xi1.size,1)),zi1.reshape((xi1.size,1))),axis=1)\n",
    "    sphere_around_origin2=np.concatenate((xi2.reshape((xi2.size,1)),yi2.reshape((xi2.size,1)),zi2.reshape((xi2.size,1))),axis=1)\n",
    "    sphere_around_origin3=np.concatenate((xi3.reshape((xi3.size,1)),yi3.reshape((xi3.size,1)),zi3.reshape((xi3.size,1))),axis=1)\n",
    "    sphere_around_point1=sphere_around_origin1+center1\n",
    "    sphere_around_point2=sphere_around_origin2+center2\n",
    "    sphere_around_point3=sphere_around_origin3+center3\n",
    "    angle=angle_calc_single(sphere_around_point1,sphere_around_point2,sphere_around_point3)\n",
    "    return angle"
   ]
  },
  {
   "cell_type": "code",
   "execution_count": 35,
   "id": "b83b35dc",
   "metadata": {},
   "outputs": [
    {
     "name": "stdout",
     "output_type": "stream",
     "text": [
      "Minimum :  122.7829519774916\n",
      "Maximum :  179.99816343306432\n",
      "Average :  158.44849322628352\n"
     ]
    },
    {
     "data": {
      "image/png": "[encoded data removed]",
      "text/plain": [
       "<Figure size 432x288 with 1 Axes>"
      ]
     },
     "metadata": {
      "needs_background": "light"
     },
     "output_type": "display_data"
    }
   ],
   "source": [
    "    center1=np.array([21.8290,-240.11992,-26.548]).reshape((1,3))\n",
    "    center2=np.array([0,0,0]).reshape((1,3))\n",
    "    center3=np.array([43.65817,-480.239,-53.097]).reshape((1,3))\n",
    "    r=np.array([65])\n",
    "    angle=angle_total(r,center1,center2,center3,1000000)\n",
    "    #unique_ang, counts_ang = np.unique(round_ang, return_counts=True)\n",
    "    print(\"Minimum : \",np.min(angle))\n",
    "    print(\"Maximum : \",np.max(angle))\n",
    "    print(\"Average : \",np.average(angle))\n",
    "    plt.hist(angle,bins=150) \n",
    "    plt.title(\"More critical angle\") \n",
    "    plt.show()"
   ]
  },
  {
   "cell_type": "code",
   "execution_count": null,
   "id": "2ef96600",
   "metadata": {},
   "outputs": [],
   "source": []
  }
 ],
 "metadata": {
  "kernelspec": {
   "display_name": "Python 3 (ipykernel)",
   "language": "python",
   "name": "python3"
  },
  "language_info": {
   "codemirror_mode": {
    "name": "ipython",
    "version": 3
   },
   "file_extension": ".py",
   "mimetype": "text/x-python",
   "name": "python",
   "nbconvert_exporter": "python",
   "pygments_lexer": "ipython3",
   "version": "3.8.5"
  }
 },
 "nbformat": 4,
 "nbformat_minor": 5
}
