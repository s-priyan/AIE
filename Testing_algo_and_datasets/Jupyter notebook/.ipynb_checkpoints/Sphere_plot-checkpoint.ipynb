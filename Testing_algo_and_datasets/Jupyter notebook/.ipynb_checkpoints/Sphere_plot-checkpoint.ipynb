{
 "cells": [
  {
   "cell_type": "code",
   "execution_count": 2,
   "id": "bca62b8a",
   "metadata": {},
   "outputs": [],
   "source": [
    "import random\n",
    "import math\n",
    "import numpy as np\n",
    "from matplotlib import pyplot as plt\n",
    "from mpl_toolkits.mplot3d import axes3d\n",
    "\n",
    "\n",
    "def new_positions_spherical_coordinates(number_of_particles,radius):\n",
    "    theta = np.random.uniform(0.,1.,( number_of_particles,1))*np.pi\n",
    "    phi = np.arccos(1-2*np.random.uniform(0.0,1.,( number_of_particles,1)))\n",
    "    x = radius * np.sin( theta ) * np.cos( phi )\n",
    "    y = radius * np.sin( theta ) * np.sin( phi )\n",
    "    z = radius * np.cos( theta )\n",
    "    return x,y,z\n",
    "    \n",
    "       "
   ]
  },
  {
   "cell_type": "code",
   "execution_count": 22,
   "id": "87fb7dae",
   "metadata": {},
   "outputs": [
    {
     "name": "stdout",
     "output_type": "stream",
     "text": [
      "vec1 shape(3, 1000)\n",
      "vec2 shape(3, 1000)\n",
      "(30000,)\n"
     ]
    },
    {
     "data": {
      "text/plain": [
       "<mpl_toolkits.mplot3d.art3d.Path3DCollection at 0x20657d9e640>"
      ]
     },
     "execution_count": 22,
     "metadata": {},
     "output_type": "execute_result"
    },
    {
     "data": {
      "image/png": "[encoded data removed]",
      "text/plain": [
       "<Figure size 432x288 with 1 Axes>"
      ]
     },
     "metadata": {
      "needs_background": "light"
     },
     "output_type": "display_data"
    }
   ],
   "source": [
    "import numpy as np\n",
    "\n",
    "from matplotlib import pyplot as plt\n",
    "from mpl_toolkits.mplot3d import axes3d\n",
    "\n",
    "def solid_sphere(R,npoints):\n",
    "    phi=np.random.uniform(low=0, high=2*np.pi, size=(1,npoints))\n",
    "    costheta=np.random.uniform(low=-1, high=1, size=(1,npoints))\n",
    "    u=np.random.uniform(low=0, high=1, size=(1,npoints))\n",
    "    theta = np.arccos( costheta )\n",
    "    r = R * np.cbrt(u)\n",
    "    x = r * np.sin( theta) * np.cos( phi )\n",
    "    y = r * np.sin( theta) * np.sin( phi )\n",
    "    z = r * np.cos( theta )\n",
    "    vec=np.concatenate((x,y,z),axis=0)\n",
    "    return vec\n",
    "\n",
    "def sample_spherical(r,npoints, ndim=3):\n",
    "    vec = np.random.randn(ndim, npoints)\n",
    "    vec /= np.linalg.norm(vec, axis=0)\n",
    "    return r*vec\n",
    "\n",
    "def  angle_max_min(r,center1,center2,center3):\n",
    "    angle_list=[]\n",
    "    xi, yi, zi = solid_sphere(r,10000)\n",
    "    sphere_around_origin=np.concatenate((xi.reshape((xi.size,1)),yi.reshape((xi.size,1)),zi.reshape((xi.size,1))),axis=1)\n",
    "    sphere_around_point1=sphere_around_origin+center1\n",
    "    sphere_around_point2=sphere_around_origin+center1\n",
    "    sphere_around_point3=sphere_around_origin+center1\n",
    "    return sphere_around_point1,sphere_around_point2,sphere_around_point3\n",
    "\n",
    "vec1 = sample_spherical(10,1000)\n",
    "vec2=  solid_sphere(10,1000)\n",
    "print(\"vec1 shape\"+str(vec1.shape))\n",
    "print(\"vec2 shape\"+str(vec2.shape))\n",
    "\n",
    "\n",
    "center1=np.array([1,2,3])\n",
    "center2=np.array([4,5,6])\n",
    "center3=np.array([9,10,11])\n",
    "r=np.array([10])\n",
    "sphere_around_point1,sphere_around_point2,sphere_around_point3=angle_max_min(r,center1,center2,center3)\n",
    "sphere=np.concatenate((sphere_around_point1,sphere_around_point2,sphere_around_point3),axis=0)\n",
    "print(sphere[:,0].shape)\n",
    "\n",
    "#print(sphere_around_point1.reshape(()))\n",
    "\n",
    "phi = np.linspace(0, np.pi, 20)\n",
    "theta = np.linspace(0, 2 * np.pi, 40)\n",
    "x = 5*np.outer(np.sin(theta), np.cos(phi))\n",
    "y = 5*np.outer(np.sin(theta), np.sin(phi))\n",
    "z = 5*np.outer(np.cos(theta), np.ones_like(phi))\n",
    "\n",
    "#xi, yi, zi = sample_spherical(r,1000)\n",
    "xi=sphere[:,0]\n",
    "yi=sphere[:,1]\n",
    "zi=sphere[:,2]\n",
    "'''shift=10\n",
    "x+=shift\n",
    "y+=shift\n",
    "z+=shift\n",
    "xi+=shift\n",
    "yi+=shift\n",
    "zi+=shift\n",
    "print(xi.shape)'''\n",
    "c=np.concatenate((xi.reshape((xi.size,1)),yi.reshape((xi.size,1)),zi.reshape((xi.size,1))),axis=1)\n",
    "\n",
    "#print(c.shape)\n",
    "\n",
    "fig, ax = plt.subplots(1, 1, subplot_kw={'projection':'3d', 'aspect':'auto'})\n",
    "#ax.plot_wireframe(x, y, z, color='k', rstride=1, cstride=1)\n",
    "ax.scatter(xi, yi, zi, s=100, c='r', zorder=10)\n",
    "\n",
    "\n"
   ]
  },
  {
   "cell_type": "code",
   "execution_count": 6,
   "id": "bb659a96",
   "metadata": {},
   "outputs": [
    {
     "name": "stdout",
     "output_type": "stream",
     "text": [
      "(1000, 1)\n"
     ]
    }
   ],
   "source": [
    "npoints=1000\n",
    "R=10\n",
    "phi=np.random.uniform(low=0, high=2*np.pi, size=(npoints,1))\n",
    "costheta=np.random.uniform(low=-1, high=1, size=(npoints,1))\n",
    "u=phi=np.random.uniform(low=0, high=1, size=(npoints,1))\n",
    "theta = np.arccos( costheta )\n",
    "r = R * np.cbrt(u)\n",
    "x = r * np.sin( theta) * np.cos( phi )\n",
    "y = r * np.sin( theta) * np.sin( phi )\n",
    "z = r * np.cos( theta )\n",
    "print(x.shape)"
   ]
  },
  {
   "cell_type": "code",
   "execution_count": null,
   "id": "72a0207b",
   "metadata": {},
   "outputs": [],
   "source": []
  }
 ],
 "metadata": {
  "kernelspec": {
   "display_name": "Python 3 (ipykernel)",
   "language": "python",
   "name": "python3"
  },
  "language_info": {
   "codemirror_mode": {
    "name": "ipython",
    "version": 3
   },
   "file_extension": ".py",
   "mimetype": "text/x-python",
   "name": "python",
   "nbconvert_exporter": "python",
   "pygments_lexer": "ipython3",
   "version": "3.8.5"
  }
 },
 "nbformat": 4,
 "nbformat_minor": 5
}
