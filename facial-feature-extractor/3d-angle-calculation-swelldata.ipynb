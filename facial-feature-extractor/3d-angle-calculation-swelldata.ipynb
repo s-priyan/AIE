{
 "cells": [
  {
   "cell_type": "code",
   "execution_count": 1,
   "metadata": {},
   "outputs": [],
   "source": [
    "import numpy as np\n",
    "import math"
   ]
  },
  {
   "cell_type": "code",
   "execution_count": 2,
   "metadata": {},
   "outputs": [],
   "source": [
    "skeltons = np.array([[-199.77371 ,  549.3777  ,  -17.124075],\n",
    "       [-424.51913 ,  199.77371 ,  -31.652796],\n",
    "       [-124.85858 ,   24.971714,   34.599186],\n",
    "       [  99.886856,    0.      ,  -41.93157 ],\n",
    "       [ -74.915146,  174.802   , -313.184   ],\n",
    "       [ -49.943428,  599.32117 , -193.50471 ],\n",
    "       [   0.      ,    0.      ,    0.      ],\n",
    "       [ -12.485857, -274.68884 ,  -23.546165],\n",
    "       [ -24.971714, -549.3777  ,  -47.09233 ],\n",
    "       [ -49.943428, -824.0666  ,  -57.688915],\n",
    "       [ -74.915146, -199.77371 , -120.31325 ],\n",
    "       [-249.71716 , -149.83029 ,  -11.178269],\n",
    "       [-174.802   , -424.51913 ,   28.219378],\n",
    "       [ 149.83029 , -474.4626  ,  -50.69546 ],\n",
    "       [  49.943428, -199.77371 , -121.274765],\n",
    "       [-174.802   , -224.74544 , -138.98532 ]], dtype=\"float32\")"
   ]
  },
  {
   "cell_type": "code",
   "execution_count": 3,
   "metadata": {},
   "outputs": [
    {
     "data": {
      "text/plain": [
       "(16, 3)"
      ]
     },
     "execution_count": 3,
     "metadata": {},
     "output_type": "execute_result"
    }
   ],
   "source": [
    "skeltons.shape"
   ]
  },
  {
   "cell_type": "code",
   "execution_count": 4,
   "metadata": {},
   "outputs": [
    {
     "data": {
      "text/plain": [
       "array([-199.77371 ,  549.3777  ,  -17.124075], dtype=float32)"
      ]
     },
     "execution_count": 4,
     "metadata": {},
     "output_type": "execute_result"
    }
   ],
   "source": [
    "skeltons[0]"
   ]
  },
  {
   "cell_type": "code",
   "execution_count": null,
   "metadata": {},
   "outputs": [],
   "source": [
    "def angle_between_coordinates(a, b, c):\n",
    "\n",
    "    ba = a - b\n",
    "    bc = c - b\n",
    "\n",
    "    cosine_angle = np.dot(ba, bc) / (np.linalg.norm(ba) * np.linalg.norm(bc))\n",
    "    angle = np.arccos(cosine_angle)\n",
    "\n",
    "    return np.degrees(angle)\n",
    "def bone_vector(a,b):\n",
    "    return (b-a)\n",
    "\n",
    "def unit_vector(vector):\n",
    "    \"\"\" Returns the unit vector of the vector.  \"\"\"\n",
    "    return vector / np.linalg.norm(vector)\n",
    "\n",
    "def angle_between_vectors(v1, v2):\n",
    "    \"\"\" Returns the angle in radians between vectors 'v1' and 'v2'::\n",
    "\n",
    "            >>> angle_between((1, 0, 0), (0, 1, 0))\n",
    "            1.5707963267948966\n",
    "            >>> angle_between((1, 0, 0), (1, 0, 0))\n",
    "            0.0\n",
    "            >>> angle_between((1, 0, 0), (-1, 0, 0))\n",
    "            3.141592653589793\n",
    "    \"\"\"\n",
    "    v1_u = unit_vector(v1)\n",
    "    v2_u = unit_vector(v2)\n",
    "    angle= np.arccos(np.clip(np.dot(v1_u, v2_u), -1.0, 1.0))\n",
    "    return np.degrees(angle)\n",
    "\n",
    "def angle_between_vector_plane(v1, plane = ''):\n",
    "    \n",
    "    if (plane == 'ZX'):\n",
    "        v1 = np.array([1,0,0])\n",
    "        v2 = v1*np.array([1,0,1])\n",
    "        angle = angle_between_vectors(v1, v2)\n",
    "    elif (plane == 'XY'):\n",
    "        v1 = v1*np.array([0,1,0])\n",
    "        v2 = v1*np.array([1,1,0])\n",
    "        angle = angle_between_vectors(v1, v2)             \n",
    "    elif (plane == 'YZ'):\n",
    "        v1 = v1*np.array([0,0,1])\n",
    "        v2 = v1*np.array([0,1,1])\n",
    "        angle = angle_between_vectors(v1, v2)           \n",
    "    return angle"
   ]
  },
  {
   "cell_type": "code",
   "execution_count": null,
   "metadata": {},
   "outputs": [],
   "source": [
    "def main():\n",
    "    \n",
    "    angles = []\n",
    "    \n",
    "    HipCenter_SpineSpine_ShoulderCenter = angle_between_coordinates(skeltons[6],skeltons[7],skeltons[8])\n",
    "    Spine_ShoulderCenterShoulderCenter_Head = angle_between_coordinates(skeltons[7],skeltons[8],skeltons[9])\n",
    "    Spine_ShoulderCenterShoulderCenter_ShoulderLeft = angle_between_coordinates(skeltons[7],skeltons[8],skeltons[13])\n",
    "    Spine_ShoulderCenterShoulderCenter_ShoulderRight = angle_between_coordinates(skeltons[7],skeltons[8],skeltons[12])\n",
    "    ShoulderCenter_ShoulderLeftShoulderLeft_ElbowLeft = angle_between_coordinates(skeltons[8],skeltons[13],skeltons[14])\n",
    "    ShoulderLeft_ElbowLeftElbowLeft_WristLeft = angle_between_coordinates(skeltons[13],skeltons[14],skeltons[15])\n",
    "    #\n",
    "    ShoulderCenter_ShoulderRightShoulderRight_ElbowRight = angle_between_coordinates(skeltons[8],skeltons[12],skeltons[11])\n",
    "    ShoulderRight_ElbowRightElbowRight_WristRight = angle_between_coordinates(skeltons[12],skeltons[11],skeltons[10])\n",
    "    #\n",
    "    HipCenter_SpinePlaneZX = angle_between_vector_plane(bone_vector(skeltons[6],skeltons[7]), plane = 'ZX')\n",
    "    HipCenter_SpinePlaneXY = angle_between_vector_plane(bone_vector(skeltons[6],skeltons[7]), plane = 'XY')\n",
    "    HipCenter_SpinePlaneYZ = angle_between_vector_plane(bone_vector(skeltons[6],skeltons[7]), plane = 'YZ')\n",
    "    Spine_ShoulderCenterPlaneZX = angle_between_vector_plane(bone_vector(skeltons[7],skeltons[8]), plane = 'ZX')\n",
    "    Spine_ShoulderCenterPlaneXY = angle_between_vector_plane(bone_vector(skeltons[7],skeltons[8]), plane = 'XY')\n",
    "    Spine_ShoulderCenterPlaneYZ = angle_between_vector_plane(bone_vector(skeltons[7],skeltons[8]), plane = 'YZ')\n",
    "    ShoulderCenter_HeadPlaneZX = angle_between_vector_plane(bone_vector(skeltons[8],skeltons[9]), plane = 'ZX')\n",
    "    ShoulderCenter_HeadPlaneXY = angle_between_vector_plane(bone_vector(skeltons[8],skeltons[9]), plane = 'XY')\n",
    "    ShoulderCenter_HeadPlaneYZ = angle_between_vector_plane(bone_vector(skeltons[8],skeltons[9]), plane = 'YZ')\n",
    "    ShoulderCenter_ShoulderLeftPlaneZX = angle_between_vector_plane(bone_vector(skeltons[8],skeltons[13]), plane = 'ZX')\n",
    "    ShoulderCenter_ShoulderLeftPlaneXY = angle_between_vector_plane(bone_vector(skeltons[8],skeltons[13]), plane = 'XY')\n",
    "    ShoulderCenter_ShoulderLeftPlaneYZ = angle_between_vector_plane(bone_vector(skeltons[8],skeltons[13]), plane = 'YZ')\n",
    "    ShoulderCenter_ShoulderRightPlaneZX = angle_between_vector_plane(bone_vector(skeltons[8],skeltons[12]), plane = 'ZX')\n",
    "    ShoulderCenter_ShoulderRightPlaneXY = angle_between_vector_plane(bone_vector(skeltons[8],skeltons[12]), plane = 'XY')\n",
    "    ShoulderCenter_ShoulderRightPlaneYZ = angle_between_vector_plane(bone_vector(skeltons[8],skeltons[12]), plane = 'YZ')\n",
    "    ShoulderLeft_ElbowLeftPlaneZX = angle_between_vector_plane(bone_vector(skeltons[13],skeltons[14]), plane = 'ZX')\n",
    "    ShoulderLeft_ElbowLeftPlaneXY = angle_between_vector_plane(bone_vector(skeltons[13],skeltons[14]), plane = 'XY')\n",
    "    ShoulderLeft_ElbowLeftPlaneYZ = angle_between_vector_plane(bone_vector(skeltons[13],skeltons[14]), plane = 'YZ')\n",
    "    ElbowLeft_WristLeftPlaneZX = angle_between_vector_plane(bone_vector(skeltons[14],skeltons[15]), plane = 'ZX')\n",
    "    ElbowLeft_WristLeftPlaneXY = angle_between_vector_plane(bone_vector(skeltons[14],skeltons[15]), plane = 'XY')\n",
    "    ElbowLeft_WristLeftPlaneYZ = angle_between_vector_plane(bone_vector(skeltons[14],skeltons[15]), plane = 'YZ')\n",
    "    #\n",
    "    #\n",
    "    #\n",
    "    ShoulderRight_ElbowRightPlaneZX = angle_between_vector_plane(bone_vector(skeltons[12],skeltons[11]), plane = 'ZX')\n",
    "    ShoulderRight_ElbowRightPlaneXY = angle_between_vector_plane(bone_vector(skeltons[12],skeltons[11]), plane = 'XY')\n",
    "    ShoulderRight_ElbowRightPlaneYZ = angle_between_vector_plane(bone_vector(skeltons[12],skeltons[11]), plane = 'YZ')\n",
    "    ElbowRight_WristRightPlaneZX = angle_between_vector_plane(bone_vector(skeltons[11],skeltons[10]), plane = 'ZX')\n",
    "    ElbowRight_WristRightPlaneXY = angle_between_vector_plane(bone_vector(skeltons[11],skeltons[10]), plane = 'XY')\n",
    "    ElbowRight_WristRightPlaneYZ = angle_between_vector_plane(bone_vector(skeltons[11],skeltons[10]), plane = 'YZ')\n",
    "#     WristRight_HandRightPlaneZX = angle_between_vector_plane(bone_vector(skeltons[7],skeltons[8]), plane = 'ZX')\n",
    "#     WristRight_HandRightPlaneXY = angle_between_vector_plane(bone_vector(skeltons[7],skeltons[8]), plane = 'ZX')\n",
    "#     WristRight_HandRightKinect = angle_between_vector_plane(bone_vector(skeltons[7],skeltons[8]), plane = 'ZX')\n",
    "\n",
    "    angles.append(HipCenter_SpineSpine_ShoulderCenter)\n",
    "    angles.append(Spine_ShoulderCenterShoulderCenter_Head)\n",
    "    angles.append(HipCenter_SpineSpine_ShoulderCenter)\n",
    "    \n",
    "\n",
    "\n",
    "\n",
    "\n",
    "\n",
    "\n",
    "\n",
    "    \n",
    "\n",
    "\n",
    "\n",
    "\n"
   ]
  },
  {
   "cell_type": "code",
   "execution_count": null,
   "metadata": {},
   "outputs": [],
   "source": [
    "if __name__ == \"__main__\":\n",
    "    main()"
   ]
  }
 ],
 "metadata": {
  "kernelspec": {
   "display_name": "Python 3",
   "language": "python",
   "name": "python3"
  },
  "language_info": {
   "codemirror_mode": {
    "name": "ipython",
    "version": 3
   },
   "file_extension": ".py",
   "mimetype": "text/x-python",
   "name": "python",
   "nbconvert_exporter": "python",
   "pygments_lexer": "ipython3",
   "version": "3.8.2"
  }
 },
 "nbformat": 4,
 "nbformat_minor": 4
}
